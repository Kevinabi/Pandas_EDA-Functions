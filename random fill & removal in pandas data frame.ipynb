{
 "cells": [
  {
   "cell_type": "code",
   "execution_count": 1,
   "id": "bebfc9a5",
   "metadata": {},
   "outputs": [],
   "source": [
    "import pandas as pd"
   ]
  },
  {
   "cell_type": "code",
   "execution_count": 16,
   "id": "c80db77d",
   "metadata": {},
   "outputs": [
    {
     "data": {
      "text/html": [
       "<div>\n",
       "<style scoped>\n",
       "    .dataframe tbody tr th:only-of-type {\n",
       "        vertical-align: middle;\n",
       "    }\n",
       "\n",
       "    .dataframe tbody tr th {\n",
       "        vertical-align: top;\n",
       "    }\n",
       "\n",
       "    .dataframe thead th {\n",
       "        text-align: right;\n",
       "    }\n",
       "</style>\n",
       "<table border=\"1\" class=\"dataframe\">\n",
       "  <thead>\n",
       "    <tr style=\"text-align: right;\">\n",
       "      <th></th>\n",
       "      <th>EID</th>\n",
       "      <th>DEPT</th>\n",
       "      <th>DESI</th>\n",
       "      <th>SALARY</th>\n",
       "    </tr>\n",
       "  </thead>\n",
       "  <tbody>\n",
       "    <tr>\n",
       "      <th>0</th>\n",
       "      <td>1001</td>\n",
       "      <td>OPS</td>\n",
       "      <td>Director</td>\n",
       "      <td>480000.0</td>\n",
       "    </tr>\n",
       "    <tr>\n",
       "      <th>1</th>\n",
       "      <td>1002</td>\n",
       "      <td>OPS</td>\n",
       "      <td>VP</td>\n",
       "      <td>245000.0</td>\n",
       "    </tr>\n",
       "    <tr>\n",
       "      <th>2</th>\n",
       "      <td>1003</td>\n",
       "      <td>ADMIN</td>\n",
       "      <td>SR MANAGER</td>\n",
       "      <td>245673.0</td>\n",
       "    </tr>\n",
       "    <tr>\n",
       "      <th>3</th>\n",
       "      <td>1004</td>\n",
       "      <td>MIS</td>\n",
       "      <td>Manager</td>\n",
       "      <td>292129.0</td>\n",
       "    </tr>\n",
       "    <tr>\n",
       "      <th>4</th>\n",
       "      <td>1005</td>\n",
       "      <td>HR</td>\n",
       "      <td>Associate</td>\n",
       "      <td>397026.0</td>\n",
       "    </tr>\n",
       "    <tr>\n",
       "      <th>...</th>\n",
       "      <td>...</td>\n",
       "      <td>...</td>\n",
       "      <td>...</td>\n",
       "      <td>...</td>\n",
       "    </tr>\n",
       "    <tr>\n",
       "      <th>88</th>\n",
       "      <td>1155</td>\n",
       "      <td>TEMP</td>\n",
       "      <td>ASSOCIATE</td>\n",
       "      <td>55000.0</td>\n",
       "    </tr>\n",
       "    <tr>\n",
       "      <th>89</th>\n",
       "      <td>1157</td>\n",
       "      <td>TEMP</td>\n",
       "      <td>ASSOCIATE</td>\n",
       "      <td>45000.0</td>\n",
       "    </tr>\n",
       "    <tr>\n",
       "      <th>90</th>\n",
       "      <td>1158</td>\n",
       "      <td>TEMP</td>\n",
       "      <td>ASSOCIATE</td>\n",
       "      <td>45000.0</td>\n",
       "    </tr>\n",
       "    <tr>\n",
       "      <th>91</th>\n",
       "      <td>1160</td>\n",
       "      <td>TEMP</td>\n",
       "      <td>ASSISTANT MANAGER</td>\n",
       "      <td>60000.0</td>\n",
       "    </tr>\n",
       "    <tr>\n",
       "      <th>92</th>\n",
       "      <td>1163</td>\n",
       "      <td>TEMP</td>\n",
       "      <td>SR.ASSOCIATE</td>\n",
       "      <td>65000.0</td>\n",
       "    </tr>\n",
       "  </tbody>\n",
       "</table>\n",
       "<p>93 rows × 4 columns</p>\n",
       "</div>"
      ],
      "text/plain": [
       "     EID   DEPT               DESI    SALARY\n",
       "0   1001    OPS           Director  480000.0\n",
       "1   1002    OPS                 VP  245000.0\n",
       "2   1003  ADMIN         SR MANAGER  245673.0\n",
       "3   1004    MIS            Manager  292129.0\n",
       "4   1005     HR          Associate  397026.0\n",
       "..   ...    ...                ...       ...\n",
       "88  1155   TEMP          ASSOCIATE   55000.0\n",
       "89  1157   TEMP          ASSOCIATE   45000.0\n",
       "90  1158   TEMP          ASSOCIATE   45000.0\n",
       "91  1160   TEMP  ASSISTANT MANAGER   60000.0\n",
       "92  1163   TEMP       SR.ASSOCIATE   65000.0\n",
       "\n",
       "[93 rows x 4 columns]"
      ]
     },
     "execution_count": 16,
     "metadata": {},
     "output_type": "execute_result"
    }
   ],
   "source": [
    "df = pd.read_excel('EMP_SAL.xls')\n",
    "df"
   ]
  },
  {
   "cell_type": "code",
   "execution_count": 4,
   "id": "2b8f35d1",
   "metadata": {},
   "outputs": [],
   "source": [
    "percent_romv_data = 0.2\n",
    "percent_of_data = int(percent_romv_data*len(df))"
   ]
  },
  {
   "cell_type": "code",
   "execution_count": 25,
   "id": "a20bbffb",
   "metadata": {},
   "outputs": [
    {
     "data": {
      "text/plain": [
       "[83, 55, 37, 85, 0, 8, 21, 81, 35, 26, 88, 52, 16, 87, 2, 13, 70, 19]"
      ]
     },
     "execution_count": 25,
     "metadata": {},
     "output_type": "execute_result"
    }
   ],
   "source": [
    "import random\n",
    "\n",
    "indice = random.sample(range(len(df)),k=percent_of_data)\n",
    "indice"
   ]
  },
  {
   "cell_type": "code",
   "execution_count": 17,
   "id": "d02e3a7b",
   "metadata": {
    "collapsed": true
   },
   "outputs": [
    {
     "data": {
      "text/plain": [
       "[False,\n",
       " True,\n",
       " False,\n",
       " False,\n",
       " False,\n",
       " False,\n",
       " False,\n",
       " False,\n",
       " False,\n",
       " False,\n",
       " False,\n",
       " True,\n",
       " False,\n",
       " True,\n",
       " False,\n",
       " False,\n",
       " False,\n",
       " False,\n",
       " False,\n",
       " False,\n",
       " False,\n",
       " False,\n",
       " False,\n",
       " False,\n",
       " False,\n",
       " False,\n",
       " False,\n",
       " False,\n",
       " False,\n",
       " False,\n",
       " False,\n",
       " False,\n",
       " False,\n",
       " False,\n",
       " False,\n",
       " False,\n",
       " False,\n",
       " False,\n",
       " False,\n",
       " True,\n",
       " False,\n",
       " False,\n",
       " False,\n",
       " False,\n",
       " False,\n",
       " False,\n",
       " False,\n",
       " False,\n",
       " True,\n",
       " True,\n",
       " True,\n",
       " False,\n",
       " True,\n",
       " False,\n",
       " False,\n",
       " False,\n",
       " True,\n",
       " True,\n",
       " True,\n",
       " True,\n",
       " False,\n",
       " False,\n",
       " False,\n",
       " False,\n",
       " False,\n",
       " False,\n",
       " False,\n",
       " False,\n",
       " False,\n",
       " False,\n",
       " True,\n",
       " False,\n",
       " True,\n",
       " False,\n",
       " False,\n",
       " False,\n",
       " False,\n",
       " False,\n",
       " False,\n",
       " False,\n",
       " True,\n",
       " False,\n",
       " False,\n",
       " False,\n",
       " False,\n",
       " False,\n",
       " True,\n",
       " True,\n",
       " True,\n",
       " False,\n",
       " False,\n",
       " False,\n",
       " False]"
      ]
     },
     "execution_count": 17,
     "metadata": {},
     "output_type": "execute_result"
    }
   ],
   "source": [
    "mask = [i in indice for i in range(len(df))]\n",
    "mask"
   ]
  },
  {
   "cell_type": "code",
   "execution_count": 19,
   "id": "b7cbcc71",
   "metadata": {},
   "outputs": [],
   "source": [
    "df['col'] = df['SALARY']"
   ]
  },
  {
   "cell_type": "code",
   "execution_count": 22,
   "id": "a370d46d",
   "metadata": {},
   "outputs": [],
   "source": [
    "df['col'] = df['col'].mask(mask)"
   ]
  },
  {
   "cell_type": "code",
   "execution_count": 27,
   "id": "7bb2c074",
   "metadata": {},
   "outputs": [
    {
     "data": {
      "text/plain": [
       "EID        0\n",
       "DEPT       0\n",
       "DESI       0\n",
       "SALARY     1\n",
       "col       19\n",
       "dtype: int64"
      ]
     },
     "execution_count": 27,
     "metadata": {},
     "output_type": "execute_result"
    }
   ],
   "source": [
    "df.isna().sum()"
   ]
  },
  {
   "cell_type": "code",
   "execution_count": null,
   "id": "bda12f80",
   "metadata": {},
   "outputs": [],
   "source": []
  }
 ],
 "metadata": {
  "kernelspec": {
   "display_name": "Python 3 (ipykernel)",
   "language": "python",
   "name": "python3"
  },
  "language_info": {
   "codemirror_mode": {
    "name": "ipython",
    "version": 3
   },
   "file_extension": ".py",
   "mimetype": "text/x-python",
   "name": "python",
   "nbconvert_exporter": "python",
   "pygments_lexer": "ipython3",
   "version": "3.9.12"
  }
 },
 "nbformat": 4,
 "nbformat_minor": 5
}
